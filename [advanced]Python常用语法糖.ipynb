{
 "cells": [
  {
   "cell_type": "markdown",
   "id": "d2817875",
   "metadata": {},
   "source": [
    "## Python常用语法糖\n",
    "\n",
    "语法糖指代的是一些特殊的语法，它们又好看又好用，像糖一样。\n",
    "\n",
    "常见的语法糖包括：\n",
    "\n",
    "1. 匿名函数\n",
    "2. 装饰器\n",
    "3. 生成器\n",
    "4. 上下文\n",
    "5. 解包"
   ]
  },
  {
   "cell_type": "markdown",
   "id": "43867eb2",
   "metadata": {},
   "source": [
    "### 课程目标\n",
    "\n",
    "在本节课结束后，同学们会掌握：\n",
    "\n",
    "1. Python常见语法糖的实际作用"
   ]
  },
  {
   "cell_type": "markdown",
   "id": "496ef752",
   "metadata": {},
   "source": [
    "### 匿名函数\n",
    "\n",
    "在Python中，匿名函数，又称lambda函数，是一种无需显式定义、可以直接使用的函数。"
   ]
  },
  {
   "cell_type": "code",
   "execution_count": 1,
   "id": "cb4e9a58",
   "metadata": {},
   "outputs": [
    {
     "name": "stdout",
     "output_type": "stream",
     "text": [
      "hwllo world\n"
     ]
    }
   ],
   "source": [
    "def hi():\n",
    "    a = 0\n",
    "    a += 1\n",
    "    print('hello world')\n",
    "hi()"
   ]
  },
  {
   "cell_type": "code",
   "execution_count": 4,
   "id": "2ce2a4fb",
   "metadata": {},
   "outputs": [
    {
     "data": {
      "text/plain": [
       "<function __main__.<lambda>(x)>"
      ]
     },
     "execution_count": 4,
     "metadata": {},
     "output_type": "execute_result"
    }
   ],
   "source": [
    "lambda x:x**2"
   ]
  },
  {
   "cell_type": "markdown",
   "id": "564ad4f2",
   "metadata": {},
   "source": [
    "关键字```lambda```声明我们要定义一个匿名函数，紧随```lambda```的则是我们要传入的变量，冒号后的值则是返回值。"
   ]
  },
  {
   "cell_type": "code",
   "execution_count": 5,
   "id": "2638bd7f",
   "metadata": {},
   "outputs": [
    {
     "data": {
      "text/plain": [
       "3"
      ]
     },
     "execution_count": 5,
     "metadata": {},
     "output_type": "execute_result"
    }
   ],
   "source": [
    "f_add = lambda x,y:x+y\n",
    "f_add(1,2)"
   ]
  },
  {
   "cell_type": "markdown",
   "id": "368e26a1",
   "metadata": {},
   "source": [
    "匿名函数常用于“只会使用一次，但是必须定义成函数”的场合，如```map```。"
   ]
  },
  {
   "cell_type": "markdown",
   "id": "1c0251ef",
   "metadata": {},
   "source": [
    "map(func,iter)对于可迭代对象中的每个值，应用func并返回。"
   ]
  },
  {
   "cell_type": "code",
   "execution_count": 2,
   "id": "7cc8fef6",
   "metadata": {},
   "outputs": [
    {
     "data": {
      "text/plain": [
       "[1, 4, 9]"
      ]
     },
     "execution_count": 2,
     "metadata": {},
     "output_type": "execute_result"
    }
   ],
   "source": [
    "list(map(lambda x:x**2,[1,2,3]))"
   ]
  },
  {
   "cell_type": "code",
   "execution_count": 3,
   "id": "0ba9f752",
   "metadata": {},
   "outputs": [
    {
     "data": {
      "text/plain": [
       "[1, 4, 9]"
      ]
     },
     "execution_count": 3,
     "metadata": {},
     "output_type": "execute_result"
    }
   ],
   "source": [
    "def sqr(x):\n",
    "    return x**2\n",
    "list(map(sqr,[1,2,3]))"
   ]
  },
  {
   "cell_type": "markdown",
   "id": "fe94de2a",
   "metadata": {},
   "source": [
    "### 装饰器\n",
    "\n",
    "装饰器可以在不侵入函数内部代码的情况下，增强函数的功能。"
   ]
  },
  {
   "cell_type": "code",
   "execution_count": 4,
   "id": "f3be2307",
   "metadata": {},
   "outputs": [
    {
     "name": "stdout",
     "output_type": "stream",
     "text": [
      "2021-09-25 16:49:09.699262 Log level: normal\n",
      "hello world\n"
     ]
    }
   ],
   "source": [
    "from datetime import datetime\n",
    "from functools import wraps\n",
    "\n",
    "def log(level):\n",
    "    def decorate(func):\n",
    "        @wraps(func)\n",
    "        def wrapper(*args, **kw):\n",
    "            #------------------\n",
    "            print(datetime.now(),f'Log level: {level}') # 打印当前时间\n",
    "            #------------------\n",
    "            return func(*args, **kw)\n",
    "        return wrapper\n",
    "    return decorate\n",
    "\n",
    "@log(level='normal') # 用装饰器修饰函数\n",
    "def hello():\n",
    "    print('hello world')\n",
    "    \n",
    "hello()"
   ]
  },
  {
   "cell_type": "markdown",
   "id": "24f685a2",
   "metadata": {},
   "source": [
    "### 生成器\n",
    "\n",
    "生成器是一个**可迭代对象**。当我们需要对一系列输入按顺序进行复杂处理时，而又不需要同时保存所有处理结果时，生成器可以显著减少资源开销。注意，生成器只能按顺序遍历，不能通过索引直接取到第若干个项。"
   ]
  },
  {
   "cell_type": "code",
   "execution_count": 15,
   "id": "5fa08f66",
   "metadata": {},
   "outputs": [
    {
     "data": {
      "text/plain": [
       "<generator object <genexpr> at 0x7ff050245ac0>"
      ]
     },
     "execution_count": 15,
     "metadata": {},
     "output_type": "execute_result"
    }
   ],
   "source": [
    "(x**2 for x in [1,2,3])"
   ]
  },
  {
   "cell_type": "code",
   "execution_count": 5,
   "id": "1d74778d",
   "metadata": {},
   "outputs": [
    {
     "name": "stdout",
     "output_type": "stream",
     "text": [
      "1\n",
      "4\n",
      "9\n"
     ]
    }
   ],
   "source": [
    "g = (x**2 for x in [1,2,3])\n",
    "\n",
    "for i in g:\n",
    "    print(i)"
   ]
  },
  {
   "cell_type": "markdown",
   "id": "a435288e",
   "metadata": {},
   "source": [
    "我们也可以通过在函数中使用```yield```关键字来构造生成器。"
   ]
  },
  {
   "cell_type": "code",
   "execution_count": 6,
   "id": "8e1bc539",
   "metadata": {},
   "outputs": [
    {
     "name": "stdout",
     "output_type": "stream",
     "text": [
      "1\n",
      "2\n",
      "3\n"
     ]
    }
   ],
   "source": [
    "def one_to_three():\n",
    "    i = 0\n",
    "    while i<3:\n",
    "        i+=1\n",
    "        yield i\n",
    "        \n",
    "    return\n",
    "        \n",
    "for i in one_to_three():\n",
    "    print(i)"
   ]
  },
  {
   "cell_type": "markdown",
   "id": "6804d8ec",
   "metadata": {},
   "source": [
    "生成器也可以在迭代过程中接受外部输入，并且改变自己的行为。生成器未收到输入时会被挂起，不会消耗计算资源。生成器迭代完成后会抛出停止迭代的异常，需要自行处理。"
   ]
  },
  {
   "cell_type": "code",
   "execution_count": null,
   "id": "f98a413e",
   "metadata": {},
   "outputs": [],
   "source": []
  },
  {
   "cell_type": "code",
   "execution_count": 7,
   "id": "b44938bc",
   "metadata": {},
   "outputs": [],
   "source": [
    "def g():\n",
    "    s = None\n",
    "    while True:\n",
    "        status = yield s\n",
    "        if status==0:\n",
    "            print('revieved 0, stop iteration')\n",
    "            return\n",
    "        elif status==1:\n",
    "            print('recieved 1, yield 1')\n",
    "            s = 1\n",
    "        elif status==2:\n",
    "            print('recieved 2, yield 2')\n",
    "            s = 2"
   ]
  },
  {
   "cell_type": "code",
   "execution_count": 15,
   "id": "bcd171b4",
   "metadata": {},
   "outputs": [
    {
     "data": {
      "text/plain": [
       "<generator object g at 0x7fd46068ba50>"
      ]
     },
     "execution_count": 15,
     "metadata": {},
     "output_type": "execute_result"
    }
   ],
   "source": [
    "g()"
   ]
  },
  {
   "cell_type": "code",
   "execution_count": 14,
   "id": "407ea007",
   "metadata": {},
   "outputs": [
    {
     "name": "stdout",
     "output_type": "stream",
     "text": [
      "revieved 0, stop iteration\n"
     ]
    },
    {
     "ename": "StopIteration",
     "evalue": "",
     "output_type": "error",
     "traceback": [
      "\u001b[0;31m---------------------------------------------------------------------------\u001b[0m",
      "\u001b[0;31mStopIteration\u001b[0m                             Traceback (most recent call last)",
      "\u001b[0;32m<ipython-input-14-76bf3a9e78f3>\u001b[0m in \u001b[0;36m<module>\u001b[0;34m\u001b[0m\n\u001b[0;32m----> 1\u001b[0;31m \u001b[0ma\u001b[0m\u001b[0;34m.\u001b[0m\u001b[0msend\u001b[0m\u001b[0;34m(\u001b[0m\u001b[0;36m0\u001b[0m\u001b[0;34m)\u001b[0m\u001b[0;34m\u001b[0m\u001b[0;34m\u001b[0m\u001b[0m\n\u001b[0m",
      "\u001b[0;31mStopIteration\u001b[0m: "
     ]
    }
   ],
   "source": [
    "a.send(0)"
   ]
  },
  {
   "cell_type": "code",
   "execution_count": 9,
   "id": "e6353c2e",
   "metadata": {
    "scrolled": true
   },
   "outputs": [
    {
     "name": "stdout",
     "output_type": "stream",
     "text": [
      "None\n",
      "recieved 1, yield 1\n",
      "1\n",
      "recieved 2, yield 2\n",
      "2\n",
      "recieved 1, yield 1\n",
      "1\n",
      "recieved 2, yield 2\n",
      "2\n",
      "revieved 0, stop iteration\n"
     ]
    },
    {
     "ename": "StopIteration",
     "evalue": "",
     "output_type": "error",
     "traceback": [
      "\u001b[0;31m---------------------------------------------------------------------------\u001b[0m",
      "\u001b[0;31mStopIteration\u001b[0m                             Traceback (most recent call last)",
      "\u001b[0;32m<ipython-input-9-d1fb66eb5692>\u001b[0m in \u001b[0;36m<module>\u001b[0;34m\u001b[0m\n\u001b[1;32m     15\u001b[0m \u001b[0ma\u001b[0m \u001b[0;34m=\u001b[0m \u001b[0mg\u001b[0m\u001b[0;34m(\u001b[0m\u001b[0;34m)\u001b[0m\u001b[0;34m\u001b[0m\u001b[0;34m\u001b[0m\u001b[0m\n\u001b[1;32m     16\u001b[0m \u001b[0;32mfor\u001b[0m \u001b[0mi\u001b[0m \u001b[0;32min\u001b[0m \u001b[0;34m[\u001b[0m\u001b[0;32mNone\u001b[0m\u001b[0;34m,\u001b[0m\u001b[0;36m1\u001b[0m\u001b[0;34m,\u001b[0m\u001b[0;36m2\u001b[0m\u001b[0;34m,\u001b[0m\u001b[0;36m1\u001b[0m\u001b[0;34m,\u001b[0m\u001b[0;36m2\u001b[0m\u001b[0;34m,\u001b[0m\u001b[0;36m0\u001b[0m\u001b[0;34m]\u001b[0m\u001b[0;34m:\u001b[0m \u001b[0;31m# 注意：第一次必须发送None来初始化生成器\u001b[0m\u001b[0;34m\u001b[0m\u001b[0;34m\u001b[0m\u001b[0m\n\u001b[0;32m---> 17\u001b[0;31m     \u001b[0mprint\u001b[0m\u001b[0;34m(\u001b[0m\u001b[0ma\u001b[0m\u001b[0;34m.\u001b[0m\u001b[0msend\u001b[0m\u001b[0;34m(\u001b[0m\u001b[0mi\u001b[0m\u001b[0;34m)\u001b[0m\u001b[0;34m)\u001b[0m\u001b[0;34m\u001b[0m\u001b[0;34m\u001b[0m\u001b[0m\n\u001b[0m",
      "\u001b[0;31mStopIteration\u001b[0m: "
     ]
    }
   ],
   "source": [
    "a = g()\n",
    "for i in [None,1,2,1,2,0]: # 注意：第一次必须发送None来初始化生成器\n",
    "    print(a.send(i))"
   ]
  },
  {
   "cell_type": "markdown",
   "id": "0052c8e2",
   "metadata": {},
   "source": [
    "### 上下文\n",
    "\n",
    "上下文允许我们定义进入```__enter__```和退出```__exit__```方法，开启上下文时会自动执行进入方法，离开上下文时会自动执行退出方法。在打开文件时经常会用到上下文管理，以避免因忘记关闭文件可能导致的文件句柄泄露。类似的，我们可以通过上下文管理来及时关闭不必要的数据库连接等。"
   ]
  },
  {
   "cell_type": "code",
   "execution_count": 1,
   "id": "bb205fdc",
   "metadata": {},
   "outputs": [
    {
     "name": "stdout",
     "output_type": "stream",
     "text": [
      "hello\n"
     ]
    }
   ],
   "source": [
    "with open('test.txt','w') as f:\n",
    "    f.write('hello')\n",
    "    \n",
    "with open('test.txt','r') as f:\n",
    "    print(f.readline())"
   ]
  },
  {
   "cell_type": "code",
   "execution_count": null,
   "id": "58949de9",
   "metadata": {},
   "outputs": [],
   "source": [
    "f = open('test.txt','w')\n",
    "f.write('hello')\n",
    "f.close()"
   ]
  },
  {
   "cell_type": "code",
   "execution_count": 10,
   "id": "2a87dffa",
   "metadata": {},
   "outputs": [
    {
     "name": "stdout",
     "output_type": "stream",
     "text": [
      "Entering context\n",
      "{'post_id': 0, 'post_title': 'test', 'post_content': 'test'}\n",
      "Exiting context\n"
     ]
    }
   ],
   "source": [
    "import pymysql\n",
    "\n",
    "class DB:\n",
    "    def __enter__(self):\n",
    "        self.db = pymysql.connect(host='localhost',user='root',passwd='crawlme@2021FALL',db='mysql',charset='utf8')\n",
    "        print('Entering context')\n",
    "        return self.db # return的结果赋给as后面的变量\n",
    "\n",
    "    def __exit__(self, exc_type, exc_val, exc_tb):\n",
    "        self.db.close()\n",
    "        print('Exiting context')\n",
    "        \n",
    "create_schema_sql = '''CREATE DATABASE IF NOT EXISTS `markyfsun`;'''\n",
    "        \n",
    "create_table_sql = '''CREATE TABLE IF NOT EXISTS `lgulife_post`(\n",
    "   `post_id` INT UNSIGNED,\n",
    "   `post_title` VARCHAR(40) NOT NULL,\n",
    "   `post_content` TEXT NOT NULL,\n",
    "   PRIMARY KEY ( `post_id` )\n",
    ")ENGINE=InnoDB DEFAULT CHARSET=utf8;'''\n",
    "\n",
    "insert_data_sql = '''INSERT IGNORE INTO `lgulife_post` VALUES (0,'test','test');'''\n",
    "\n",
    "with DB() as db: # 进入时自动连接数据库，退出时自动断开连接\n",
    "    with db.cursor(pymysql.cursors.DictCursor) as c: # cursor也实现了上下文管理\n",
    "        c.execute(create_schema_sql)\n",
    "        c.execute('use markyfsun;')\n",
    "        c.execute(create_table_sql)\n",
    "        c.execute(insert_data_sql)\n",
    "        db.commit()\n",
    "        c.execute('select * from `lgulife_post`;')\n",
    "        print(c.fetchone())\n"
   ]
  },
  {
   "cell_type": "markdown",
   "id": "53da066a",
   "metadata": {},
   "source": [
    "### 解包\n",
    "\n",
    "Python支持```*```、```**```来将列表、字典等容器内的元素提取出来，使代码更简练。"
   ]
  },
  {
   "cell_type": "code",
   "execution_count": 16,
   "id": "6c7c0e79",
   "metadata": {},
   "outputs": [
    {
     "name": "stdout",
     "output_type": "stream",
     "text": [
      "1\n"
     ]
    }
   ],
   "source": [
    "a,b,c = [1,2,3]\n",
    "print(a)"
   ]
  },
  {
   "cell_type": "code",
   "execution_count": 17,
   "id": "fda6389b",
   "metadata": {},
   "outputs": [],
   "source": [
    "def f(*args, **kwargs):\n",
    "    print(args)\n",
    "    print(kwargs)"
   ]
  },
  {
   "cell_type": "code",
   "execution_count": 19,
   "id": "5e4af451",
   "metadata": {},
   "outputs": [
    {
     "name": "stdout",
     "output_type": "stream",
     "text": [
      "(1, 2, 3)\n",
      "{'a': 'a', 'b': 'b'}\n"
     ]
    }
   ],
   "source": [
    "f(1,2,3,a='a',b='b')"
   ]
  },
  {
   "cell_type": "code",
   "execution_count": null,
   "id": "306ca9f6",
   "metadata": {},
   "outputs": [],
   "source": [
    "def add(x,y):\n",
    "    return x+y"
   ]
  },
  {
   "cell_type": "code",
   "execution_count": null,
   "id": "939c0750",
   "metadata": {},
   "outputs": [],
   "source": [
    "f(1,2,3,a='a',b='b')"
   ]
  },
  {
   "cell_type": "code",
   "execution_count": 22,
   "id": "a621d52e",
   "metadata": {},
   "outputs": [
    {
     "name": "stdout",
     "output_type": "stream",
     "text": [
      "[1, 2, 3, 4]\n"
     ]
    }
   ],
   "source": [
    "l = [1,2,3,4]\n",
    "print(l)"
   ]
  },
  {
   "cell_type": "code",
   "execution_count": null,
   "id": "dc8f81b4",
   "metadata": {},
   "outputs": [],
   "source": [
    "print(l)\n",
    "t = (1,*(2,3),4)\n",
    "print(t)"
   ]
  },
  {
   "cell_type": "code",
   "execution_count": 24,
   "id": "f87a6369",
   "metadata": {},
   "outputs": [
    {
     "name": "stdout",
     "output_type": "stream",
     "text": [
      "{'a': 'a', 'b': 'b', 'c': 'c'}\n"
     ]
    }
   ],
   "source": [
    "d = dict(a='a',b='b',c='c')\n",
    "print(d)"
   ]
  },
  {
   "cell_type": "markdown",
   "id": "4dc2437d",
   "metadata": {},
   "source": [
    "我们也可以利用解包同时完成多个赋值操作。"
   ]
  },
  {
   "cell_type": "code",
   "execution_count": 25,
   "id": "9adaa6d1",
   "metadata": {
    "scrolled": true
   },
   "outputs": [
    {
     "name": "stdout",
     "output_type": "stream",
     "text": [
      "1\n",
      "[2, 3, 4]\n",
      "5\n"
     ]
    }
   ],
   "source": [
    "a,*b,c = [1,2,3,4,5]\n",
    "print(a)\n",
    "print(b)\n",
    "print(c)"
   ]
  },
  {
   "cell_type": "markdown",
   "id": "2ca7861e",
   "metadata": {},
   "source": [
    "与解包相对应的是压包```zip```函数，它会将多个可迭代对象像拉链一样压成```tuple```。注意，```zip```返回的是一个生成器，只能顺序遍历。"
   ]
  },
  {
   "cell_type": "code",
   "execution_count": 29,
   "id": "f695ec83",
   "metadata": {},
   "outputs": [
    {
     "name": "stdout",
     "output_type": "stream",
     "text": [
      "(1, 'a')\n",
      "(2, 'b')\n",
      "(3, 'c')\n"
     ]
    }
   ],
   "source": [
    "for item in zip([1,2,3],['a','b','c']):\n",
    "    print(item)"
   ]
  },
  {
   "cell_type": "markdown",
   "id": "9ab231ab",
   "metadata": {},
   "source": [
    "### 练习\n",
    "\n",
    "定义一个支持上下文的类，对于进入上下文的返回值应用解包操作，解包后的元素中需要包含一个生成器，遍历该生成器并打印所有结果。定义一个装饰器用于修饰该类，使得在进入和退出上下文时可以打印出```\"__enter__\"```和```\"__exit__\"```以及对应时间。"
   ]
  },
  {
   "cell_type": "code",
   "execution_count": null,
   "id": "a8c3fe01",
   "metadata": {},
   "outputs": [],
   "source": [
    "def log(level):\n",
    "    def decorate(func):\n",
    "        @wraps(func)\n",
    "        def wrapper(*args, **kw):\n",
    "            #------------------\n",
    "            print(datetime.now(),f'Log level: {level}') # 打印当前时间\n",
    "            #------------------\n",
    "            return func(*args, **kw)\n",
    "        return wrapper\n",
    "    return decorate"
   ]
  },
  {
   "cell_type": "code",
   "execution_count": 38,
   "id": "60b9f85c",
   "metadata": {},
   "outputs": [],
   "source": [
    "class DB:\n",
    "    @log(level='normal')\n",
    "    def __enter__(self):\n",
    "        return (x**2 for x in [1,2,3]),1,2\n",
    "    @log(level='__exit__')\n",
    "    def __exit__(self, exc_type, exc_val, exc_tb):\n",
    "        pass\n",
    "        "
   ]
  },
  {
   "cell_type": "code",
   "execution_count": 39,
   "id": "cb382df5",
   "metadata": {},
   "outputs": [
    {
     "name": "stdout",
     "output_type": "stream",
     "text": [
      "2021-09-25 17:30:18.289625 Log level: normal\n",
      "in context\n",
      "1\n",
      "4\n",
      "9\n",
      "2021-09-25 17:30:18.290094 Log level: __exit__\n"
     ]
    }
   ],
   "source": [
    "with DB() as db:\n",
    "    print('in context')\n",
    "    a,b,c = db\n",
    "    for i in a:\n",
    "        print(i)"
   ]
  },
  {
   "cell_type": "code",
   "execution_count": 26,
   "id": "b3b733db",
   "metadata": {},
   "outputs": [],
   "source": []
  }
 ],
 "metadata": {
  "kernelspec": {
   "display_name": "Python 3",
   "language": "python",
   "name": "python3"
  },
  "language_info": {
   "codemirror_mode": {
    "name": "ipython",
    "version": 3
   },
   "file_extension": ".py",
   "mimetype": "text/x-python",
   "name": "python",
   "nbconvert_exporter": "python",
   "pygments_lexer": "ipython3",
   "version": "3.8.8"
  }
 },
 "nbformat": 4,
 "nbformat_minor": 5
}
